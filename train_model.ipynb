{
 "cells": [
  {
   "cell_type": "code",
   "execution_count": 30,
   "id": "9f518c13",
   "metadata": {},
   "outputs": [],
   "source": [
    "import cv2\n",
    "import numpy as np\n",
    "from tensorflow import keras\n",
    "from keras.optimizers import Adam\n",
    "from keras.utils import np_utils\n",
    "\n",
    "#from keras.layers import Activation, Dropout, Convolution2D, GlobalAveragePooling2D\n",
    "from keras.models import Sequential\n",
    "import tensorflow as tf\n",
    "import os\n",
    "import matplotlib.pyplot as plt\n",
    "import tensorflow as tf\n",
    "from tensorflow.keras import datasets, layers, models\n",
    "from kerastuner import RandomSearch\n",
    "from kerastuner.engine.hyperparameters import HyperParameters\n",
    "from keras.layers.core import Dense, Dropout, Flatten\n",
    "from keras.layers.convolutional import Conv2D, MaxPooling2D, SeparableConv2D\n",
    "from kerastuner import RandomSearch\n",
    "from kerastuner.engine.hyperparameters import HyperParameters\n",
    "from keras.layers import Activation, Dropout, Convolution2D, GlobalAveragePooling2D"
   ]
  },
  {
   "cell_type": "code",
   "execution_count": 2,
   "id": "543bd137",
   "metadata": {},
   "outputs": [],
   "source": [
    "CLASS_MAP = {\n",
    "    \"paper\": 0,\n",
    "    \"rock\": 1,\n",
    "    \"scissor\": 2,\n",
    "}\n",
    "\n",
    "\n",
    "\n",
    "def mapper(val):\n",
    "    return CLASS_MAP[val]"
   ]
  },
  {
   "cell_type": "code",
   "execution_count": 4,
   "id": "d052852d",
   "metadata": {},
   "outputs": [
    {
     "data": {
      "text/plain": [
       "['paper', 'rock', 'scissor']"
      ]
     },
     "execution_count": 4,
     "metadata": {},
     "output_type": "execute_result"
    }
   ],
   "source": [
    "IMG_SAVE_PATH='image_data'\n",
    "os.listdir(IMG_SAVE_PATH)"
   ]
  },
  {
   "cell_type": "code",
   "execution_count": 5,
   "id": "37930506",
   "metadata": {},
   "outputs": [],
   "source": [
    "# creating dataset from training data images and their labels (labels=their folder name)\n",
    "dataset = []\n",
    "\n",
    "for directory in os.listdir(IMG_SAVE_PATH):\n",
    "    path = os.path.join(IMG_SAVE_PATH, directory)\n",
    "    if not os.path.isdir(path):\n",
    "        continue\n",
    "    for item in os.listdir(path):\n",
    "        img = cv2.imread(os.path.join(path, item))\n",
    "        img = cv2.cvtColor(img, cv2.COLOR_BGR2RGB)\n",
    "        img = cv2.resize(img, (112, 112))\n",
    "        dataset.append([img, directory])"
   ]
  },
  {
   "cell_type": "code",
   "execution_count": 6,
   "id": "cfb736a5",
   "metadata": {},
   "outputs": [
    {
     "data": {
      "text/plain": [
       "list"
      ]
     },
     "execution_count": 6,
     "metadata": {},
     "output_type": "execute_result"
    }
   ],
   "source": [
    "type(dataset)"
   ]
  },
  {
   "cell_type": "code",
   "execution_count": 7,
   "id": "7a150b58",
   "metadata": {},
   "outputs": [],
   "source": [
    "import random\n",
    "random.shuffle(dataset)"
   ]
  },
  {
   "cell_type": "code",
   "execution_count": 8,
   "id": "f1e659b6",
   "metadata": {},
   "outputs": [],
   "source": [
    "data, labels = zip(*dataset)"
   ]
  },
  {
   "cell_type": "code",
   "execution_count": 9,
   "id": "54996b0c",
   "metadata": {},
   "outputs": [],
   "source": [
    "X_train=np.array(data)"
   ]
  },
  {
   "cell_type": "code",
   "execution_count": 10,
   "id": "f095adb7",
   "metadata": {},
   "outputs": [],
   "source": [
    "X_train=X_train.astype(float)"
   ]
  },
  {
   "cell_type": "code",
   "execution_count": 11,
   "id": "1cc61bb6",
   "metadata": {},
   "outputs": [],
   "source": [
    "X_train=X_train/255"
   ]
  },
  {
   "cell_type": "code",
   "execution_count": 12,
   "id": "c97a7a39",
   "metadata": {},
   "outputs": [],
   "source": [
    "labels = list(map(mapper, labels))"
   ]
  },
  {
   "cell_type": "code",
   "execution_count": 13,
   "id": "81f1b310",
   "metadata": {},
   "outputs": [],
   "source": [
    "y_train=np.array(labels)"
   ]
  },
  {
   "cell_type": "code",
   "execution_count": 14,
   "id": "4bd05b17",
   "metadata": {},
   "outputs": [],
   "source": [
    "from sklearn.model_selection import train_test_split"
   ]
  },
  {
   "cell_type": "code",
   "execution_count": 15,
   "id": "695149de",
   "metadata": {},
   "outputs": [],
   "source": [
    "#splitting data \n",
    "X_train, X_test, y_train, y_test = train_test_split(X_train, y_train, test_size=0.15, random_state=42)"
   ]
  },
  {
   "cell_type": "code",
   "execution_count": 16,
   "id": "0062f741",
   "metadata": {},
   "outputs": [],
   "source": [
    "def get_model():\n",
    "    cnn = models.Sequential([\n",
    "        \n",
    "    # Convolution Layer Conv1\n",
    "        \n",
    "    layers.Conv2D(filters=64, kernel_size=(3, 3),input_shape=(112, 112, 3),activation ='relu'),\n",
    "    layers.MaxPooling2D((2, 2)),\n",
    "    \n",
    "    #Convolution layer Conv2\n",
    "        \n",
    "    layers.Conv2D(filters=128, kernel_size=(3, 3),activation ='relu'),\n",
    "    layers.MaxPooling2D((2, 2)),\n",
    "        \n",
    "    #3\n",
    "        \n",
    "    layers.Conv2D(filters=256, kernel_size=(3, 3),activation ='relu'),\n",
    "    layers.MaxPooling2D((2, 2)),\n",
    "        \n",
    "    #4\n",
    "        \n",
    "    layers.Conv2D(filters=512, kernel_size=(3, 3),activation ='relu'),\n",
    "    layers.MaxPooling2D((2, 2)),\n",
    "        \n",
    "    \n",
    "        \n",
    "    layers.Flatten(),\n",
    "    \n",
    "    layers.Dense(512, activation='relu'),\n",
    "        \n",
    "    layers.Dropout(0.5),\n",
    "        \n",
    "    layers.Dense(3, activation='sigmoid')\n",
    "])\n",
    "    return cnn"
   ]
  },
  {
   "cell_type": "code",
   "execution_count": 17,
   "id": "73b9b0d1",
   "metadata": {},
   "outputs": [],
   "source": [
    "model = get_model()"
   ]
  },
  {
   "cell_type": "code",
   "execution_count": 18,
   "id": "aa165104",
   "metadata": {},
   "outputs": [],
   "source": [
    "y_train = np_utils.to_categorical(y_train)\n",
    "y_test = np_utils.to_categorical(y_test)"
   ]
  },
  {
   "cell_type": "code",
   "execution_count": 19,
   "id": "0fe1d9f7",
   "metadata": {},
   "outputs": [],
   "source": [
    "\n",
    "model.compile(optimizer='adam',\n",
    "              loss='categorical_crossentropy',\n",
    "              metrics=['accuracy'])\n"
   ]
  },
  {
   "cell_type": "code",
   "execution_count": 20,
   "id": "7c29c1d6",
   "metadata": {},
   "outputs": [],
   "source": [
    "y_train=y_train.astype(int)\n",
    "y_test=y_test.astype(int)"
   ]
  },
  {
   "cell_type": "code",
   "execution_count": 21,
   "id": "f258dec9",
   "metadata": {},
   "outputs": [
    {
     "name": "stdout",
     "output_type": "stream",
     "text": [
      "Epoch 1/10\n",
      "61/61 [==============================] - 64s 1s/step - loss: 1.0827 - accuracy: 0.4255\n",
      "Epoch 2/10\n",
      "61/61 [==============================] - 69s 1s/step - loss: 0.8116 - accuracy: 0.6123\n",
      "Epoch 3/10\n",
      "61/61 [==============================] - 72s 1s/step - loss: 0.5536 - accuracy: 0.7774\n",
      "Epoch 4/10\n",
      "61/61 [==============================] - 71s 1s/step - loss: 0.3648 - accuracy: 0.8608\n",
      "Epoch 5/10\n",
      "61/61 [==============================] - 70s 1s/step - loss: 0.2321 - accuracy: 0.9193\n",
      "Epoch 6/10\n",
      "61/61 [==============================] - 71s 1s/step - loss: 0.2210 - accuracy: 0.9255\n",
      "Epoch 7/10\n",
      "61/61 [==============================] - 71s 1s/step - loss: 0.1533 - accuracy: 0.9508\n",
      "Epoch 8/10\n",
      "61/61 [==============================] - 72s 1s/step - loss: 0.1015 - accuracy: 0.9658\n",
      "Epoch 9/10\n",
      "61/61 [==============================] - 70s 1s/step - loss: 0.0806 - accuracy: 0.9720\n",
      "Epoch 10/10\n",
      "61/61 [==============================] - 71s 1s/step - loss: 0.0856 - accuracy: 0.9700\n"
     ]
    },
    {
     "data": {
      "text/plain": [
       "<tensorflow.python.keras.callbacks.History at 0x29449cac760>"
      ]
     },
     "execution_count": 21,
     "metadata": {},
     "output_type": "execute_result"
    }
   ],
   "source": [
    "model.fit(X_train,y_train ,epochs=10)"
   ]
  },
  {
   "cell_type": "code",
   "execution_count": 22,
   "id": "cac2c2ad",
   "metadata": {},
   "outputs": [
    {
     "name": "stdout",
     "output_type": "stream",
     "text": [
      "Classification Report: \n",
      "               precision    recall  f1-score   support\n",
      "\n",
      "           0       0.91      0.99      0.95       107\n",
      "           1       0.97      0.97      0.97       109\n",
      "           2       0.97      0.90      0.93       125\n",
      "\n",
      "    accuracy                           0.95       341\n",
      "   macro avg       0.95      0.95      0.95       341\n",
      "weighted avg       0.95      0.95      0.95       341\n",
      "\n"
     ]
    }
   ],
   "source": [
    "from sklearn.metrics import confusion_matrix , classification_report\n",
    "import numpy as np\n",
    "y_pred = model.predict(X_test)\n",
    "y_pred_classes = [np.argmax(element) for element in y_pred]\n",
    "y_test_classes = [np.argmax(element) for element in y_test]\n",
    "\n",
    "\n",
    "print(\"Classification Report: \\n\", classification_report(y_test_classes, y_pred_classes))"
   ]
  },
  {
   "cell_type": "code",
   "execution_count": 23,
   "id": "e7b0b8e3",
   "metadata": {},
   "outputs": [
    {
     "name": "stdout",
     "output_type": "stream",
     "text": [
      "Model: \"sequential\"\n",
      "_________________________________________________________________\n",
      "Layer (type)                 Output Shape              Param #   \n",
      "=================================================================\n",
      "conv2d (Conv2D)              (None, 110, 110, 64)      1792      \n",
      "_________________________________________________________________\n",
      "max_pooling2d (MaxPooling2D) (None, 55, 55, 64)        0         \n",
      "_________________________________________________________________\n",
      "conv2d_1 (Conv2D)            (None, 53, 53, 128)       73856     \n",
      "_________________________________________________________________\n",
      "max_pooling2d_1 (MaxPooling2 (None, 26, 26, 128)       0         \n",
      "_________________________________________________________________\n",
      "conv2d_2 (Conv2D)            (None, 24, 24, 256)       295168    \n",
      "_________________________________________________________________\n",
      "max_pooling2d_2 (MaxPooling2 (None, 12, 12, 256)       0         \n",
      "_________________________________________________________________\n",
      "conv2d_3 (Conv2D)            (None, 10, 10, 512)       1180160   \n",
      "_________________________________________________________________\n",
      "max_pooling2d_3 (MaxPooling2 (None, 5, 5, 512)         0         \n",
      "_________________________________________________________________\n",
      "flatten (Flatten)            (None, 12800)             0         \n",
      "_________________________________________________________________\n",
      "dense (Dense)                (None, 512)               6554112   \n",
      "_________________________________________________________________\n",
      "dropout (Dropout)            (None, 512)               0         \n",
      "_________________________________________________________________\n",
      "dense_1 (Dense)              (None, 3)                 1539      \n",
      "=================================================================\n",
      "Total params: 8,106,627\n",
      "Trainable params: 8,106,627\n",
      "Non-trainable params: 0\n",
      "_________________________________________________________________\n"
     ]
    }
   ],
   "source": [
    "model.summary()"
   ]
  },
  {
   "cell_type": "code",
   "execution_count": 24,
   "id": "d18e8181",
   "metadata": {},
   "outputs": [
    {
     "name": "stdout",
     "output_type": "stream",
     "text": [
      "INFO:tensorflow:Assets written to: my_model_.5\\assets\n"
     ]
    }
   ],
   "source": [
    "model.save(\"my_model_.5\")"
   ]
  },
  {
   "cell_type": "code",
   "execution_count": 25,
   "id": "7df62d17",
   "metadata": {},
   "outputs": [],
   "source": [
    "def plot_sample(index):\n",
    "    plt.figure(figsize = (15,2))\n",
    "    plt.imshow(X_test[index])\n",
    "    plt.xlabel(y_pred_classes[index])"
   ]
  },
  {
   "cell_type": "code",
   "execution_count": 26,
   "id": "fc72b9e4",
   "metadata": {},
   "outputs": [
    {
     "data": {
      "image/png": "[encoded data removed]",
      "text/plain": [
       "<Figure size 1080x144 with 1 Axes>"
      ]
     },
     "metadata": {
      "needs_background": "light"
     },
     "output_type": "display_data"
    }
   ],
   "source": [
    "plot_sample(27)"
   ]
  },
  {
   "cell_type": "code",
   "execution_count": null,
   "id": "39f83f98",
   "metadata": {},
   "outputs": [],
   "source": []
  }
 ],
 "metadata": {
  "kernelspec": {
   "display_name": "Python 3",
   "language": "python",
   "name": "python3"
  },
  "language_info": {
   "codemirror_mode": {
    "name": "ipython",
    "version": 3
   },
   "file_extension": ".py",
   "mimetype": "text/x-python",
   "name": "python",
   "nbconvert_exporter": "python",
   "pygments_lexer": "ipython3",
   "version": "3.8.3"
  }
 },
 "nbformat": 4,
 "nbformat_minor": 5
}
