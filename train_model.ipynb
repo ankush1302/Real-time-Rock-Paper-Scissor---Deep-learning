{
 "cells": [
  {
   "cell_type": "code",
   "execution_count": null,
   "id": "9f518c13",
   "metadata": {},
   "outputs": [],
   "source": [
    "import cv2\n",
    "import numpy as np\n",
    "from tensorflow import keras\n",
    "from keras.optimizers import Adam\n",
    "from keras.utils import np_utils\n",
    "#from keras.layers import Activation, Dropout, Convolution2D, GlobalAveragePooling2D\n",
    "from keras.models import Sequential\n",
    "import tensorflow as tf\n",
    "import os\n",
    "import matplotlib.pyplot as plt\n",
    "import tensorflow as tf\n",
    "from tensorflow.keras import datasets, layers, models\n",
    "from kerastuner import RandomSearch\n",
    "from kerastuner.engine.hyperparameters import HyperParameters\n",
    "from keras.layers.core import Dense, Dropout, Flatten\n",
    "from keras.layers.convolutional import Conv2D, MaxPooling2D, SeparableConv2D\n",
    "from kerastuner import RandomSearch\n",
    "from kerastuner.engine.hyperparameters import HyperParameters\n",
    "from keras.layers import Activation, Dropout, Convolution2D, GlobalAveragePooling2D"
   ]
  },
  {
   "cell_type": "code",
   "execution_count": null,
   "id": "543bd137",
   "metadata": {},
   "outputs": [],
   "source": [
    "CLASS_MAP = {\n",
    "    \"paper\": 0,\n",
    "    \"rock\": 1,\n",
    "    \"scissor\": 2,\n",
    "}\n",
    "\n",
    "\n",
    "\n",
    "def mapper(val):\n",
    "    return CLASS_MAP[val]"
   ]
  },
  {
   "cell_type": "code",
   "execution_count": null,
   "id": "d052852d",
   "metadata": {},
   "outputs": [],
   "source": [
    "IMG_SAVE_PATH='image_data'\n",
    "os.listdir(IMG_SAVE_PATH)"
   ]
  },
  {
   "cell_type": "code",
   "execution_count": null,
   "id": "37930506",
   "metadata": {},
   "outputs": [],
   "source": [
    "# creating dataset from training data images and their labels (labels=their folder name)\n",
    "dataset = []\n",
    "\n",
    "for directory in os.listdir(IMG_SAVE_PATH):\n",
    "    path = os.path.join(IMG_SAVE_PATH, directory)\n",
    "    if not os.path.isdir(path):\n",
    "        continue\n",
    "    for item in os.listdir(path):\n",
    "        img = cv2.imread(os.path.join(path, item))\n",
    "        img = cv2.cvtColor(img, cv2.COLOR_BGR2RGB)\n",
    "        img = cv2.resize(img, (112, 112))\n",
    "        dataset.append([img, directory])"
   ]
  },
  {
   "cell_type": "code",
   "execution_count": null,
   "id": "cfb736a5",
   "metadata": {},
   "outputs": [],
   "source": [
    "type(dataset)"
   ]
  },
  {
   "cell_type": "code",
   "execution_count": null,
   "id": "7a150b58",
   "metadata": {},
   "outputs": [],
   "source": [
    "import random\n",
    "random.shuffle(dataset)"
   ]
  },
  {
   "cell_type": "code",
   "execution_count": null,
   "id": "f1e659b6",
   "metadata": {},
   "outputs": [],
   "source": [
    "data, labels = zip(*dataset)"
   ]
  },
  {
   "cell_type": "code",
   "execution_count": null,
   "id": "54996b0c",
   "metadata": {},
   "outputs": [],
   "source": [
    "X_train=np.array(data)"
   ]
  },
  {
   "cell_type": "code",
   "execution_count": null,
   "id": "f095adb7",
   "metadata": {},
   "outputs": [],
   "source": [
    "X_train=X_train.astype(float)"
   ]
  },
  {
   "cell_type": "code",
   "execution_count": null,
   "id": "1cc61bb6",
   "metadata": {},
   "outputs": [],
   "source": [
    "X_train=X_train/255"
   ]
  },
  {
   "cell_type": "code",
   "execution_count": null,
   "id": "c97a7a39",
   "metadata": {},
   "outputs": [],
   "source": [
    "labels = list(map(mapper, labels))"
   ]
  },
  {
   "cell_type": "code",
   "execution_count": null,
   "id": "81f1b310",
   "metadata": {},
   "outputs": [],
   "source": [
    "y_train=np.array(labels)"
   ]
  },
  {
   "cell_type": "code",
   "execution_count": null,
   "id": "4bd05b17",
   "metadata": {},
   "outputs": [],
   "source": [
    "from sklearn.model_selection import train_test_split"
   ]
  },
  {
   "cell_type": "code",
   "execution_count": null,
   "id": "695149de",
   "metadata": {},
   "outputs": [],
   "source": [
    "#splitting data \n",
    "X_train, X_test, y_train, y_test = train_test_split(X_train, y_train, test_size=0.15, random_state=42)"
   ]
  },
  {
   "cell_type": "code",
   "execution_count": null,
   "id": "0062f741",
   "metadata": {},
   "outputs": [],
   "source": [
    "def get_model():\n",
    "    cnn = models.Sequential([\n",
    "        \n",
    "    # Convolution Layer Conv1\n",
    "        \n",
    "    layers.Conv2D(filters=64, kernel_size=(3, 3),input_shape=(112, 112, 3),activation ='relu'),\n",
    "    layers.MaxPooling2D((2, 2)),\n",
    "    \n",
    "    #Convolution layer Conv2\n",
    "        \n",
    "    layers.Conv2D(filters=128, kernel_size=(3, 3),activation ='relu'),\n",
    "    layers.MaxPooling2D((2, 2)),\n",
    "        \n",
    "    #3\n",
    "        \n",
    "    layers.Conv2D(filters=256, kernel_size=(3, 3),activation ='relu'),\n",
    "    layers.MaxPooling2D((2, 2)),\n",
    "        \n",
    "    #4\n",
    "        \n",
    "    layers.Conv2D(filters=512, kernel_size=(3, 3),activation ='relu'),\n",
    "    layers.MaxPooling2D((2, 2)),\n",
    "        \n",
    "    \n",
    "        \n",
    "    layers.Flatten(),\n",
    "    \n",
    "    layers.Dense(512, activation='relu'),\n",
    "        \n",
    "    layers.Dropout(0.5),\n",
    "        \n",
    "    layers.Dense(128, activation='relu'),\n",
    "        \n",
    "    layers.Dense(4, activation='sigmoid')\n",
    "])\n",
    "    return cnn"
   ]
  },
  {
   "cell_type": "code",
   "execution_count": null,
   "id": "73b9b0d1",
   "metadata": {},
   "outputs": [],
   "source": [
    "model = get_model()"
   ]
  },
  {
   "cell_type": "code",
   "execution_count": null,
   "id": "aa165104",
   "metadata": {},
   "outputs": [],
   "source": [
    "y_train = np_utils.to_categorical(y_train)\n",
    "y_test = np_utils.to_categorical(y_test)"
   ]
  },
  {
   "cell_type": "code",
   "execution_count": null,
   "id": "0fe1d9f7",
   "metadata": {},
   "outputs": [],
   "source": [
    "\n",
    "model.compile(optimizer='adam',\n",
    "              loss='categorical_crossentropy',\n",
    "              metrics=['accuracy'])\n"
   ]
  },
  {
   "cell_type": "code",
   "execution_count": null,
   "id": "7c29c1d6",
   "metadata": {},
   "outputs": [],
   "source": [
    "y_train=y_train.astype(int)\n",
    "y_test=y_test.astype(int)"
   ]
  },
  {
   "cell_type": "code",
   "execution_count": null,
   "id": "f258dec9",
   "metadata": {},
   "outputs": [],
   "source": [
    "model.fit(X_train,y_train ,epochs=10)"
   ]
  },
  {
   "cell_type": "code",
   "execution_count": null,
   "id": "cac2c2ad",
   "metadata": {},
   "outputs": [],
   "source": [
    "from sklearn.metrics import confusion_matrix , classification_report\n",
    "import numpy as np\n",
    "y_pred = model.predict(X_test)\n",
    "y_pred_classes = [np.argmax(element) for element in y_pred]\n",
    "y_test_classes = [np.argmax(element) for element in y_test]\n",
    "\n",
    "\n",
    "print(\"Classification Report: \\n\", classification_report(y_test_classes, y_pred_classes))"
   ]
  },
  {
   "cell_type": "code",
   "execution_count": null,
   "id": "e7b0b8e3",
   "metadata": {},
   "outputs": [],
   "source": [
    "model.summary()"
   ]
  },
  {
   "cell_type": "code",
   "execution_count": null,
   "id": "d18e8181",
   "metadata": {},
   "outputs": [],
   "source": [
    "model.save(\"my_model_5\")"
   ]
  },
  {
   "cell_type": "code",
   "execution_count": null,
   "id": "7df62d17",
   "metadata": {},
   "outputs": [],
   "source": [
    "def plot_sample(index):\n",
    "    plt.figure(figsize = (15,2))\n",
    "    plt.imshow(X_test[index])\n",
    "    plt.xlabel(y_pred_classes[index])"
   ]
  },
  {
   "cell_type": "code",
   "execution_count": null,
   "id": "fc72b9e4",
   "metadata": {},
   "outputs": [],
   "source": [
    "plot_sample(27)"
   ]
  }
 ],
 "metadata": {
  "kernelspec": {
   "display_name": "Python 3",
   "language": "python",
   "name": "python3"
  },
  "language_info": {
   "codemirror_mode": {
    "name": "ipython",
    "version": 3
   },
   "file_extension": ".py",
   "mimetype": "text/x-python",
   "name": "python",
   "nbconvert_exporter": "python",
   "pygments_lexer": "ipython3",
   "version": "3.8.3"
  }
 },
 "nbformat": 4,
 "nbformat_minor": 5
}
